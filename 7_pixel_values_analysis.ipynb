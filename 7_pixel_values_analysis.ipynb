{
 "cells": [
  {
   "cell_type": "markdown",
   "metadata": {},
   "source": [
    "# Using matplotlib to plot a histogram of pixel values\n"
   ]
  },
  {
   "cell_type": "code",
   "execution_count": 1,
   "metadata": {},
   "outputs": [],
   "source": [
    "import rasterio\n",
    "import numpy\n",
    "import math\n",
    "from matplotlib import pyplot as plt\n",
    "\n",
    "# This notebook explores a single 4 band (blue, green, red, NIR) PlanetScope scene in a UTM projection.\n",
    "image_file = \"Rome_analytic.tif\"\n",
    "\n",
    "# Use Rasterio to open the image.\n",
    "satdat = rasterio.open(image_file)"
   ]
  },
  {
   "cell_type": "code",
   "execution_count": 2,
   "metadata": {},
   "outputs": [],
   "source": [
    "# Load the 4 bands into 2d arrays - recall that we previously learned PlanetScope band order is BGRN.\n",
    "blue, green, red, nir = satdat.read()"
   ]
  },
  {
   "cell_type": "code",
   "execution_count": 4,
   "metadata": {},
   "outputs": [
    {
     "data": {
      "image/png": "[encoded data removed]",
      "text/plain": [
       "<Figure size 720x288 with 1 Axes>"
      ]
     },
     "metadata": {
      "needs_background": "light"
     },
     "output_type": "display_data"
    }
   ],
   "source": [
    "# Define a new figure\n",
    "fig2 = plt.figure(figsize=(10,4))\n",
    "\n",
    "# Give this new figure a subplot, which will contain the histogram itself\n",
    "ax = fig2.add_subplot(111)\n",
    "\n",
    "# Add a title & (x,y) labels to the plot\n",
    "plt.title(\"Number of Pixels(n) Vs Value\", fontsize=18, fontweight='bold')\n",
    "plt.xlabel(\"pixel values\", fontsize=14)\n",
    "plt.ylabel(\"Number of pixels\", fontsize=14)\n",
    "\n",
    "# let's plot non-null blue band values as an example\n",
    "# For the x-axis, we want to count every pixel that has a value\n",
    "x = blue[numpy.not_equal(blue, satdat.nodata)]\n",
    "\n",
    "# Define the number of bins to divide the data into\n",
    "bins = 20\n",
    "\n",
    "# Define a color for the histogram\n",
    "# You can use https://matplotlib.org/2.0.0/examples/color/named_colors.html as a reference\n",
    "color = 'red'\n",
    "\n",
    "# call 'hist` with our x-axis, bins, and color details\n",
    "ax.hist(x,bins,color=color)\n",
    "\n",
    "# Save the generated figure to an external image file\n",
    "fig2.savefig(\"histogram.png\", dpi=200, bbox_inches='tight', pad_inches=0.7)\n",
    "\n",
    "# Finally - let's take a look!\n",
    "plt.show()"
   ]
  }
 ],
 "metadata": {
  "kernelspec": {
   "display_name": "Python 3.9.12 ('base')",
   "language": "python",
   "name": "python3"
  },
  "language_info": {
   "codemirror_mode": {
    "name": "ipython",
    "version": 3
   },
   "file_extension": ".py",
   "mimetype": "text/x-python",
   "name": "python",
   "nbconvert_exporter": "python",
   "pygments_lexer": "ipython3",
   "version": "3.10.0"
  },
  "vscode": {
   "interpreter": {
    "hash": "cd78fef2128015050713e82ca51c6520b11aee7c9ee8df750520bbbc7384cbaa"
   }
  }
 },
 "nbformat": 4,
 "nbformat_minor": 2
}
