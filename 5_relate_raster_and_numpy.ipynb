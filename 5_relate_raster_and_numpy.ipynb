{
 "cells": [
  {
   "cell_type": "markdown",
   "metadata": {},
   "source": [
    "# Demonstrate the relationship between Rasterio datasets and NumPy n-dimensional arrays\n"
   ]
  },
  {
   "cell_type": "markdown",
   "metadata": {},
   "source": [
    "## Load dataset"
   ]
  },
  {
   "cell_type": "code",
   "execution_count": 1,
   "metadata": {},
   "outputs": [],
   "source": [
    "# user rasterio to open our dataset\n",
    "\n",
    "import rasterio\n",
    "satdat = rasterio.open(\"Rome_analytic.tif\")"
   ]
  },
  {
   "cell_type": "markdown",
   "metadata": {},
   "source": [
    "## Parse bands"
   ]
  },
  {
   "cell_type": "code",
   "execution_count": 2,
   "metadata": {},
   "outputs": [],
   "source": [
    "blue, green, red, nir = satdat.read()"
   ]
  },
  {
   "cell_type": "markdown",
   "metadata": {},
   "source": [
    "## Pixels grids as numpy arrays\n",
    "\n",
    "In a raster dataset, each pixel has a value. Pixels are arranged in a grid, and pixels representing equivalent data have the same value:\n",
    "\n",
    "![pixels2.png](pixels2.png)"
   ]
  },
  {
   "cell_type": "code",
   "execution_count": 3,
   "metadata": {},
   "outputs": [
    {
     "name": "stdout",
     "output_type": "stream",
     "text": [
      "<class 'numpy.ndarray'>\n"
     ]
    }
   ],
   "source": [
    "# Bands are stored as Numpy arrays.\n",
    "\n",
    "print(type(blue))"
   ]
  },
  {
   "cell_type": "code",
   "execution_count": 4,
   "metadata": {},
   "outputs": [
    {
     "name": "stdout",
     "output_type": "stream",
     "text": [
      "2\n"
     ]
    }
   ],
   "source": [
    "# How many dimensions would a single raster band have?  Two dimensions: rows and columns.\n",
    "\n",
    "print(blue.ndim)"
   ]
  },
  {
   "cell_type": "code",
   "execution_count": 5,
   "metadata": {},
   "outputs": [
    {
     "name": "stdout",
     "output_type": "stream",
     "text": [
      "uint16\n"
     ]
    }
   ],
   "source": [
    "# Take a look at the datatype of the values in this band.\n",
    "\n",
    "print(blue.dtype)"
   ]
  },
  {
   "cell_type": "code",
   "execution_count": 6,
   "metadata": {},
   "outputs": [
    {
     "name": "stdout",
     "output_type": "stream",
     "text": [
      "min 93 max 4095\n",
      "min 60 max 3976\n",
      "min 38 max 3889\n",
      "min 25 max 3917\n"
     ]
    }
   ],
   "source": [
    "# Output a min & max pixel value in each band.\n",
    "\n",
    "for band in [blue, green, red, nir]:\n",
    "    print(\"min {min} max {max}\".format(min=band.min(), max=band.max()))"
   ]
  },
  {
   "cell_type": "code",
   "execution_count": 7,
   "metadata": {},
   "outputs": [
    {
     "name": "stdout",
     "output_type": "stream",
     "text": [
      "Red: 415\n",
      "Green: 323\n",
      "Blue: 290\n",
      "NIR: 314\n"
     ]
    }
   ],
   "source": [
    "import math\n",
    "\n",
    "# Let's grab the pixel 5km east and 5km south of the upper left corner\n",
    "\n",
    "# World coordinates for the desired pixel.\n",
    "x_coord = satdat.bounds.left + 5000\n",
    "y_coord = satdat.bounds.top - 5000\n",
    "\n",
    "# Convert world coordinates to pixel.  World coordinates may not transform precisely to row and column indexes,\n",
    "# but a Numpy array can only be indexed by integer values.  The 'op' parameter for 'satdat.index()' determines\n",
    "# how the transformed values are rounded.  In some cases any point falling within a pixel should be considered\n",
    "# contained, and in other cases only points falling within one portion of the pixels hould be considered contained.\n",
    "# The 'op' parameter lets users make this decision on their own.  The values must still be cast to integers.\n",
    "col, row = satdat.index(x_coord, y_coord, op=math.floor)\n",
    "col = int(col)\n",
    "row = int(row)\n",
    "\n",
    "\n",
    "# Now let's look at the value of each band at this pixel\n",
    "print(\"Red: {}\".format(red[row, col]))\n",
    "print(\"Green: {}\".format(green[row, col]))\n",
    "print(\"Blue: {}\".format(blue[row, col]))\n",
    "print(\"NIR: {}\".format(nir[row, col]))"
   ]
  }
 ],
 "metadata": {
  "kernelspec": {
   "display_name": "Python 3.9.12 ('base')",
   "language": "python",
   "name": "python3"
  },
  "language_info": {
   "codemirror_mode": {
    "name": "ipython",
    "version": 3
   },
   "file_extension": ".py",
   "mimetype": "text/x-python",
   "name": "python",
   "nbconvert_exporter": "python",
   "pygments_lexer": "ipython3",
   "version": "3.10.0"
  },
  "vscode": {
   "interpreter": {
    "hash": "cd78fef2128015050713e82ca51c6520b11aee7c9ee8df750520bbbc7384cbaa"
   }
  }
 },
 "nbformat": 4,
 "nbformat_minor": 2
}
